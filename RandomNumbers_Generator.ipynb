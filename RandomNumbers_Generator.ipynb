{
 "cells": [
  {
   "cell_type": "code",
   "execution_count": 1,
   "metadata": {},
   "outputs": [],
   "source": [
    "import math\n",
    "import sys\n",
    "\n",
    "# s0 : seed\n",
    "s0 = 7\n",
    "# a : multiplicateur\n",
    "a = 5\n",
    "# c : increment\n",
    "c = 3\n",
    "# m : Modulo \n",
    "m =  8\n",
    "\n",
    "S = []"
   ]
  },
  {
   "cell_type": "code",
   "execution_count": 2,
   "metadata": {},
   "outputs": [],
   "source": [
    "#Fonction premier\n",
    "def Premier(a):\n",
    "    if a >= 2:\n",
    "        for y in range(2,a):\n",
    "            if not ( a % y ):\n",
    "                return 0\n",
    "    else:\n",
    "        return 0\n",
    "    return 1\n"
   ]
  },
  {
   "cell_type": "code",
   "execution_count": 3,
   "metadata": {},
   "outputs": [],
   "source": [
    "#Fonction Pgcd\n",
    "def pgcd(a,b):\n",
    "    if b==0:\n",
    "        return a\n",
    "    else:\n",
    "        r=a%b\n",
    "        return pgcd(b,r)"
   ]
  },
  {
   "cell_type": "code",
   "execution_count": 4,
   "metadata": {},
   "outputs": [],
   "source": [
    "#calcule si connaissant s0 uniquement, fn recursive\n",
    "def Si(i):\n",
    "    if(i<0):\n",
    "        exit(-1)\n",
    "    elif(i>0):\n",
    "        return (a*Si(i-1)+c) % m\n",
    "    else:\n",
    "        return S[0]"
   ]
  },
  {
   "cell_type": "code",
   "execution_count": 5,
   "metadata": {},
   "outputs": [],
   "source": [
    "def dans_S(i):\n",
    "\tif(i in S):\n",
    "\t\treturn 1\n",
    "\telse:\n",
    "\t\treturn 0     "
   ]
  },
  {
   "cell_type": "code",
   "execution_count": 6,
   "metadata": {},
   "outputs": [],
   "source": [
    "def main():\n",
    "\tS.append(s0)\n",
    "\ti=1\n",
    "\twhile (dans_S(Si(i)) == 0):\n",
    "\t\tS.append(Si(i))\n",
    "\t\ti+=1\n",
    "\tprint(S)\n",
    "\tprint(Si(i))"
   ]
  },
  {
   "cell_type": "code",
   "execution_count": 7,
   "metadata": {},
   "outputs": [
    {
     "name": "stdout",
     "output_type": "stream",
     "text": [
      "[7, 6, 1, 0, 3, 2, 5, 4]\n",
      "7\n"
     ]
    }
   ],
   "source": [
    "if __name__ == '__main__':\n",
    "\tmain()"
   ]
  }
 ],
 "metadata": {
  "kernelspec": {
   "display_name": "Python 3",
   "language": "python",
   "name": "python3"
  },
  "language_info": {
   "codemirror_mode": {
    "name": "ipython",
    "version": 3
   },
   "file_extension": ".py",
   "mimetype": "text/x-python",
   "name": "python",
   "nbconvert_exporter": "python",
   "pygments_lexer": "ipython3",
   "version": "3.7.4"
  }
 },
 "nbformat": 4,
 "nbformat_minor": 2
}
